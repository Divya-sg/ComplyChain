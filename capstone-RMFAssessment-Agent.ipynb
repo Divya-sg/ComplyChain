{
 "cells": [
  {
   "cell_type": "code",
   "execution_count": 1,
   "metadata": {},
   "outputs": [
    {
     "name": "stdout",
     "output_type": "stream",
     "text": [
      "tvly-dev-V8aZJqKSeyA\n",
      "sk-proj-oSYhDCExsLks\n",
      "divya-venkatraman\n",
      "capstone-playground-assessment-agent\n"
     ]
    }
   ],
   "source": [
    "from dotenv import load_dotenv\n",
    "import os\n",
    "import pandas as pd\n",
    "from langgraph.graph import StateGraph, START, END\n",
    "from typing import TypedDict\n",
    "from langchain_core.prompts import ChatPromptTemplate, HumanMessagePromptTemplate\n",
    "from langchain_core.messages import HumanMessage\n",
    "from langchain_openai import ChatOpenAI\n",
    "from IPython.display import Image, display, HTML\n",
    "from opik import Opik, track\n",
    "from opik.integrations.langchain import OpikTracer\n",
    "\n",
    "os.environ[\"OPIK_PROJECT_NAME\"] = \"capstone-playground-assessment-agent\"\n",
    "\n",
    "load_dotenv()\n",
    "\n",
    "print(os.environ['TAVILY_API_KEY'][:20])\n",
    "print(os.environ['OPENAI_API_KEY'][:20])\n",
    "print(os.getenv(\"OPIK_WORKSPACE\"))\n",
    "print(os.getenv(\"OPIK_PROJECT_NAME\"))"
   ]
  },
  {
   "cell_type": "code",
   "execution_count": 30,
   "metadata": {},
   "outputs": [
    {
     "data": {
      "image/png": "[encoded data removed]",
      "text/plain": [
       "<IPython.core.display.Image object>"
      ]
     },
     "metadata": {},
     "output_type": "display_data"
    }
   ],
   "source": [
    "# Define your model\n",
    "model = ChatOpenAI(model=\"gpt-4o\")\n",
    "\n",
    "# Define State for LangGraph\n",
    "# Extended state\n",
    "class AssessmentState(TypedDict, total=False):\n",
    "    requirement: str\n",
    "    evidence: str\n",
    "    input_prompt: list  # list of BaseMessage\n",
    "    judgment: str\n",
    "\n",
    "# Step 1: Prepare prompt\n",
    "def prepare_input(state: AssessmentState):\n",
    "    template = ChatPromptTemplate.from_messages([\n",
    "        HumanMessagePromptTemplate.from_template(\n",
    "                \"You are an AI compliance assessor. You will be given a governance requirement and structured evidence.\\n\"\n",
    "                \"Your task is to assess whether the evidence:\\n\"\n",
    "                \"1. Completely meets the requirement\\n\"\n",
    "                \"2. Partially meets the requirement\\n\"\n",
    "                \"3. Does not meet the requirement\\n\\n\"\n",
    "                \"Provide a final judgment using one of the three labels and explain your reasoning with specific points from the evidence.\\n\\n\"\n",
    "                \"Governance Requirement:\\n{requirement}\\n\\n\"\n",
    "                \"Evidence:\\n{evidence}\"\n",
    "            )\n",
    "    ])\n",
    "    prompt_value = template.invoke({\n",
    "        \"requirement\": state[\"requirement\"],\n",
    "        \"evidence\": state[\"evidence\"]\n",
    "    })\n",
    "    return {\"input_prompt\": prompt_value.to_messages()}\n",
    "\n",
    "# Step 2: Evaluate\n",
    "def evaluate_with_llm(state: AssessmentState):\n",
    "    response = model.invoke(state[\"input_prompt\"])\n",
    "    return {\"judgment\": response.content}\n",
    "\n",
    "# Build the LangGraph\n",
    "workflow = StateGraph(AssessmentState)\n",
    "workflow.add_node(\"PrepareInput\", prepare_input)\n",
    "workflow.add_node(\"Evaluate\", evaluate_with_llm)\n",
    "workflow.set_entry_point(\"PrepareInput\")\n",
    "workflow.add_edge(\"PrepareInput\", \"Evaluate\")\n",
    "workflow.add_edge(\"Evaluate\", END)\n",
    "\n",
    "graph = workflow.compile()\n",
    "tracer = OpikTracer(graph=graph.get_graph(xray=True))\n",
    "display(Image(graph.get_graph().draw_mermaid_png()))\n"
   ]
  },
  {
   "cell_type": "code",
   "execution_count": 31,
   "metadata": {},
   "outputs": [
    {
     "name": "stdout",
     "output_type": "stream",
     "text": [
      "An AI system inventory is an organized database of artifacts relating to an AI system or model. It may include system documentation, incident response plans, data dictionaries, links to implementation software or source code, names and contact information for relevant AI actors, or other information that may be helpful for model or system maintenance and incident response purposes. AI system inventories also enable a holistic view of organizational AI assets. A serviceable AI system inventory may allow for the quick resolution of:\n",
      "\n",
      "- specific queries for single models, such as  “when was this model last refreshed?” \n",
      "- high-level queries across all models, such as, “how many models are currently deployed within our organization?” or “how many users are impacted by our models?” \n",
      "\n",
      "AI system inventories are a common element of traditional model risk management approaches and can provide technical, business and risk management benefits. Typically inventories capture all organizational models or systems, as partial inventories may not provide the value of a full inventory.\n",
      "       Model/System Name        Model Type Deployment Status Deployment Environment     Business Owner Technical Owner Point(s) of Contact Date of Last Refresh Initial Deployment Date Last Audit Date Model Version   Training Data Source(s)          Data Dictionary / Schema                Documentation Link(s)    Source Code Repository License / IP Info   Model Dependencies Risk Classification    Use Case Category Target Users / Stakeholders  Estimated Number of Users Impacted Fairness / Bias Assessment Done Explainability Tools Used Audit Trail Enabled Monitoring Tools / Frameworks    Incident Response Plan Link Security Controls Applied Model Governance Tags Ethical Review Completed           AI Risk Control Measures External Vendors / Providers Model Evaluation Metrics     Performance Benchmarks  End-of-Life Date (if any)\n",
      "    Credit Scoring Model    Classification          Deployed                    GCP    Risk Management       Alice Tan      alice@bank.com           2024-10-24              2021-12-11      2025-04-03          v3.4 Internal banking datasets https://bank.internal/docs/schema https://bank.internal/docs/model_doc https://git.bank.com/repo       Proprietary scikit-learn, pandas              Medium Loan risk assessment           Internal analysts                               49144                              No                      SHAP                  No                        MLflow https://bank.internal/docs/irp          RBAC, Encryption         GDPR, MAS-TRM                      Yes Bias mitigation, robustness checks                  Open-source                 Accuracy 95%+ accuracy on test data                        NaN\n",
      "      Fraud Detection AI Anomaly Detection    In development                On-Prem     Fraud Division        John Lim       john@bank.com           2025-01-02              2023-09-11      2025-04-17          v3.0 Internal banking datasets https://bank.internal/docs/schema https://bank.internal/docs/model_doc https://git.bank.com/repo       Proprietary scikit-learn, pandas              Medium         Fraud alerts           Internal analysts                               82303                             Yes                      LIME                  No                        MLflow https://bank.internal/docs/irp          RBAC, Encryption         GDPR, MAS-TRM                      Yes Bias mitigation, robustness checks                  Open-source                Precision 95%+ accuracy on test data                        NaN\n",
      "Customer Churn Predictor        Regression    In development                  Azure Customer Retention       Sarah Lee      sarah@bank.com           2024-10-22              2024-02-07      2025-02-21          v1.4 Internal banking datasets https://bank.internal/docs/schema https://bank.internal/docs/model_doc https://git.bank.com/repo       Proprietary scikit-learn, pandas                High     Retention offers           Internal analysts                               24486                             Yes      Integrated Gradients                  No                        MLflow https://bank.internal/docs/irp          RBAC, Encryption         GDPR, MAS-TRM                      Yes Bias mitigation, robustness checks           Third-party AI Co.                   Recall 95%+ accuracy on test data                        NaN\n",
      "       Loan Approval Bot    Rule-Based NLP          Deployed                    GCP            Lending       David Ong      david@bank.com           2024-12-09              2022-02-17      2025-03-02          v2.7 Internal banking datasets https://bank.internal/docs/schema https://bank.internal/docs/model_doc https://git.bank.com/repo       Proprietary scikit-learn, pandas                 Low     Loan eligibility           Internal analysts                               47332                             Yes     Custom JSON Explainer                  No                        MLflow https://bank.internal/docs/irp          RBAC, Encryption         GDPR, MAS-TRM                      Yes Bias mitigation, robustness checks                     Internal                 F1-score 95%+ accuracy on test data                        NaN\n",
      " Transaction Categorizer        Clustering        Deprecated                    GCP            Finance       Meena Raj      meena@bank.com           2024-12-02              2022-05-11      2025-03-28          v2.6 Internal banking datasets https://bank.internal/docs/schema https://bank.internal/docs/model_doc https://git.bank.com/repo       Proprietary scikit-learn, pandas                High    Spending analysis           Internal analysts                               96510                              No                       NaN                  No                        MLflow https://bank.internal/docs/irp          RBAC, Encryption         GDPR, MAS-TRM                      Yes Bias mitigation, robustness checks                  Open-source                  AUC-ROC 95%+ accuracy on test data                        NaN\n"
     ]
    }
   ],
   "source": [
    "# Run the agent with your example input\n",
    "ai_rmf = pd.read_excel('nist_ai_rmf_playbook_structured.xlsx',sheet_name=\"Sheet1\")\n",
    "ai_rmf.head()\n",
    "requirement_text = ai_rmf[ai_rmf[\"section_id\"]=='GOVERN 1.6']['section_about'].values[0]\n",
    "# #\"\"\"An AI system inventory is an organized database of artifacts relating to an AI system or model... (full text omitted here for brevity)\"\"\"\n",
    "print(requirement_text)\n",
    "evidence_df = pd.read_csv(\"Simulated_AI_System_Inventory.csv\")\n",
    "evidence_text = evidence_df.to_string(index=False)\n",
    "print(evidence_text)\n"
   ]
  },
  {
   "cell_type": "code",
   "execution_count": null,
   "metadata": {},
   "outputs": [
    {
     "name": "stdout",
     "output_type": "stream",
     "text": [
      "Judgment:\n",
      " Final Judgment: Completely meets the requirement\n",
      "\n",
      "Reasoning:\n",
      "\n",
      "1. **Comprehensive Coverage**: The evidence provides a detailed inventory covering multiple AI systems and models, including a diverse range of model types (e.g., classification, anomaly detection, regression, rule-based NLP, clustering). This aligns with the requirement for an organized database of artifacts.\n",
      "\n",
      "2. **Detailed Artifacts**: Each model entry contains detailed information, such as:\n",
      "   - **Model/System Name** and **Model Type**: This helps in identifying and classifying the model.\n",
      "   - **Deployment Status** and **Environment**: Indicates whether a model is deployed or in development, and its deployment environment, meeting the need for tracking system status.\n",
      "   - **Business and Technical Owner, Points of Contact**: Human resource management aspect is present, enabling maintenance and incident response by identifying responsible individuals.\n",
      "   - **Dates** (e.g., Date of Last Refresh, Initial Deployment Date, Last Audit Date): This supports the requirement for tracking changes and updates.\n",
      "   - **Implementation Links** (Data Dictionary/Schema, Documentation, Source Code Repository): Enables quick access to necessary documentation and resources.\n",
      "   - **Operational Details** (Model Version, Training Data Sources, Dependencies, etc.): Helps in understanding the system components and integration points.\n",
      "\n",
      "3. **Holistic View of AI Assets**: The inventory includes entries like estimated number of users impacted and use case categories, providing a macro view of system utilization and business impact.\n",
      "\n",
      "4. **Support for Quick Querying**: The specific information fields allow for easy querying, such as date of last refresh and deployment status, addressing both single model and high-level organizational queries.\n",
      "\n",
      "5. **Model Risk Management Elements**: Includes risk classification, fairness/bias assessment, explainability tools, incident response plans, and monitoring frameworks, providing comprehensive risk management data as per traditional model risk management requirements.\n",
      "\n",
      "6. **Governance and Compliance**: Includes security controls, license/IP information, governance tags, ethical review status, and external vendor details, supporting compliance and governance oversight.\n",
      "\n",
      "The evidence presented thoroughly aligns with the details and purpose outlined in the governance requirement, fully satisfying its criteria.\n"
     ]
    }
   ],
   "source": [
    "# If only the requirement description is sent\n",
    "result = graph.invoke({\n",
    "    \"requirement\": requirement_text,\n",
    "    \"evidence\": evidence_text\n",
    "})\n",
    "\n",
    "print(\"Judgment:\\n\", result[\"judgment\"])"
   ]
  },
  {
   "cell_type": "code",
   "execution_count": 34,
   "metadata": {},
   "outputs": [
    {
     "name": "stdout",
     "output_type": "stream",
     "text": [
      "Judgment:\n",
      " Based on the evidence provided, the assessment of compliance with the governance requirement for maintaining an AI system inventory is as follows:\n",
      "\n",
      "1. **Completeness of the Inventory**:\n",
      "   - The evidence lists multiple models with structured details, which include essential components like Model/System Name, Deployment Status, Business Owner, Technical Owner, Date of Last Refresh, and Initial Deployment Date, among others. This suggests a thorough inventory capturing substantial information on individual AI systems within the organization.\n",
      "\n",
      "2. **Contents of Inventory**:\n",
      "   - The inventory includes system documentation, incident response plans, data dictionaries, links to documentation and source code, and contact points which align with the requirement's definition of a comprehensive AI system inventory.\n",
      "   - Other crucial aspects like Training Data Source(s), Security Controls Applied, and Model Evaluation Metrics are also captured.\n",
      "\n",
      "3. **Holistic View and Query Resolution**:\n",
      "   - The inventory appears structured to resolve queries about specific models (e.g., Date of Last Refresh) and across all models (e.g., Deployment Status), fulfilling the requirement for a holistic view and the ability to quickly resolve queries.\n",
      "\n",
      "4. **Responsibility and Process Documentation**:\n",
      "   - The evidence specifies Business and Technical Owners for each model, indicating accountability but lacks explicit documentation on “Who is responsible for documenting and maintaining the AI system inventory details?” and detailed descriptions of processes for data generation, acquisition/collection, etc.\n",
      "\n",
      "5. **Model Accuracy and Ethical Considerations**:\n",
      "   - Although Model Governance Tags, Fairness/Bias Assessment, and Ethical Review are part of the inventory, the explicit documentation about “appropriate interval for checking whether it is still accurate, unbiased, explainable, etc.” is not noted explicitly in the evidence.\n",
      "\n",
      "6. **Use of External Resources**:\n",
      "   - While there is mention of compliance measures like GDPR, it does not explicitly reference external guidelines such as GAO-21-519SP or the Intel AI Ethics Framework.\n",
      "\n",
      "**Final Judgment**: **Partially meets the requirement**\n",
      "\n",
      "**Reasoning**: The evidence provides a detailed and well-structured inventory of AI systems meeting many aspects of the governance requirement but lacks complete elements related to ongoing responsibility documentation, explicit processes, and interval checks for maintaining AI system accuracy and ethics. While specific organizational responsibilities and linkage to external resources are not fully detailed, the inventory covers most technical aspects comprehensively.\n"
     ]
    }
   ],
   "source": [
    "# If only the requirement description along with documentation is sent\n",
    "control_ID = 'GOVERN 1.6'\n",
    "requirement_text_withdoc = ai_rmf[ai_rmf[\"section_id\"]==control_ID]['section_about'].values[0] + \" \" + ai_rmf[ai_rmf[\"section_id\"]==control_ID]['section_doc'].values[0]\n",
    "\n",
    "result = graph.invoke({\n",
    "    \"requirement\": requirement_text_withdoc,\n",
    "    \"evidence\": evidence_text\n",
    "})\n",
    "\n",
    "print(\"Judgment:\\n\", result[\"judgment\"])"
   ]
  },
  {
   "cell_type": "code",
   "execution_count": 36,
   "metadata": {},
   "outputs": [
    {
     "name": "stdout",
     "output_type": "stream",
     "text": [
      "An AI system inventory is an organized database of artifacts relating to an AI system or model. It may include system documentation, incident response plans, data dictionaries, links to implementation software or source code, names and contact information for relevant AI actors, or other information that may be helpful for model or system maintenance and incident response purposes. AI system inventories also enable a holistic view of organizational AI assets. A serviceable AI system inventory may allow for the quick resolution of:\n",
      "\n",
      "- specific queries for single models, such as  “when was this model last refreshed?” \n",
      "- high-level queries across all models, such as, “how many models are currently deployed within our organization?” or “how many users are impacted by our models?” \n",
      "\n",
      "AI system inventories are a common element of traditional model risk management approaches and can provide technical, business and risk management benefits. Typically inventories capture all organizational models or systems, as partial inventories may not provide the value of a full inventory.\n",
      "       Model/System Name        Model Type Deployment Status Deployment Environment     Business Owner Technical Owner Point(s) of Contact Date of Last Refresh Initial Deployment Date Last Audit Date Model Version   Training Data Source(s)          Data Dictionary / Schema                Documentation Link(s)    Source Code Repository License / IP Info   Model Dependencies Risk Classification    Use Case Category Target Users / Stakeholders  Estimated Number of Users Impacted Fairness / Bias Assessment Done Explainability Tools Used Audit Trail Enabled Monitoring Tools / Frameworks    Incident Response Plan Link Security Controls Applied Model Governance Tags Ethical Review Completed           AI Risk Control Measures External Vendors / Providers Model Evaluation Metrics     Performance Benchmarks  End-of-Life Date (if any)\n",
      "    Credit Scoring Model    Classification          Deployed                    GCP    Risk Management       Alice Tan      alice@bank.com             24/10/24                11/12/21          3/4/25          v3.4 Internal banking datasets https://bank.internal/docs/schema https://bank.internal/docs/model_doc https://git.bank.com/repo       Proprietary scikit-learn, pandas              Medium Loan risk assessment           Internal analysts                               49144                              No                      SHAP                  No                        MLflow https://bank.internal/docs/irp          RBAC, Encryption         GDPR, MAS-TRM                      Yes Bias mitigation, robustness checks                  Open-source                 Accuracy 95%+ accuracy on test data                        NaN\n",
      "      Fraud Detection AI Anomaly Detection    In development                On-Prem     Fraud Division        John Lim       john@bank.com               2/1/25                 11/9/23         17/4/25          v3.0 Internal banking datasets https://bank.internal/docs/schema https://bank.internal/docs/model_doc https://git.bank.com/repo       Proprietary scikit-learn, pandas              Medium         Fraud alerts           Internal analysts                               82303                             Yes                      LIME                  No                        MLflow https://bank.internal/docs/irp          RBAC, Encryption         GDPR, MAS-TRM                      Yes Bias mitigation, robustness checks                  Open-source                      NaN 95%+ accuracy on test data                        NaN\n",
      "Customer Churn Predictor        Regression    In development                  Azure Customer Retention       Sarah Lee      sarah@bank.com             22/10/24                  7/2/24         21/2/25          v1.4 Internal banking datasets https://bank.internal/docs/schema https://bank.internal/docs/model_doc https://git.bank.com/repo       Proprietary scikit-learn, pandas                High     Retention offers           Internal analysts                               24486                             Yes      Integrated Gradients                  No                        MLflow https://bank.internal/docs/irp          RBAC, Encryption         GDPR, MAS-TRM                      Yes Bias mitigation, robustness checks           Third-party AI Co.                   Recall 95%+ accuracy on test data                        NaN\n",
      "       Loan Approval Bot    Rule-Based NLP          Deployed                    GCP            Lending       David Ong      david@bank.com              9/12/24                 17/2/22          2/3/25          v2.7 Internal banking datasets https://bank.internal/docs/schema https://bank.internal/docs/model_doc https://git.bank.com/repo       Proprietary scikit-learn, pandas                 Low     Loan eligibility           Internal analysts                               47332                             Yes     Custom JSON Explainer                  No                        MLflow https://bank.internal/docs/irp          RBAC, Encryption         GDPR, MAS-TRM                      Yes Bias mitigation, robustness checks                     Internal                 F1-score 95%+ accuracy on test data                        NaN\n",
      " Transaction Categorizer        Clustering        Deprecated                    GCP            Finance             NaN                 NaN              2/12/24                 11/5/22         28/3/25          v2.6 Internal banking datasets https://bank.internal/docs/schema https://bank.internal/docs/model_doc https://git.bank.com/repo       Proprietary scikit-learn, pandas                High    Spending analysis           Internal analysts                               96510                              No                       NaN                  No                        MLflow https://bank.internal/docs/irp          RBAC, Encryption         GDPR, MAS-TRM                      Yes Bias mitigation, robustness checks                  Open-source                  AUC-ROC 95%+ accuracy on test data                        NaN\n",
      "Judgment:\n",
      " Final Judgment: Partially meets the requirement\n",
      "\n",
      "Explanation:\n",
      "\n",
      "The provided evidence includes many components required for a comprehensive AI system inventory, but there are some aspects missing or incomplete. Here's a detailed breakdown:\n",
      "\n",
      "1. **Components Present:**\n",
      "   - **Basic Model Information**: Includes model/system name, model type, deployment status, deployment environment, last refresh date, initial deployment date, last audit date, and model version.\n",
      "   - **Ownership and Contact Information**: Business owner, technical owner, and points of contact are specified.\n",
      "   - **Data and Documentation**: Training data sources, data dictionary/schema links, documentation links, and source code repository information are present.\n",
      "   - **Risk and Compliance**: Risk classification, target users/stakeholders, security controls, model governance tags (e.g., GDPR, MAS-TRM), ethical review completion, and AI risk control measures.\n",
      "   - **Performance and Monitoring**: Fairness/bias assessment, explainability tools, monitoring tools/frameworks, incident response plan link, and model evaluation metrics.\n",
      "\n",
      "2. **Components Missing or Partial:**\n",
      "   - **Accountability and Maintenance**: The requirement suggests documenting \"who is responsible for documenting and maintaining the AI system inventory details,\" but specific processes for this are not defined in the evidence.\n",
      "   - **Data Handling Processes**: Comprehensive processes for data generation, acquisition/collection, ingestion, staging/storage, transformations, security, maintenance, and dissemination are not explicitly detailed.\n",
      "   - **Model Evaluation and Refresh Checks**: Although some details about the last refresh and audit are given, there is no clear mention of processes or intervals for checking the model's accuracy, bias, explainability, etc., as per the governance requirement.\n",
      "   - **Holistic View of AI Assets**: While individual models are documented, there's limited information about an overarching system or process for addressing high-level queries across all models, such as total number of models deployed or total number of users impacted.\n",
      "\n",
      "Overall, while the evidence provides significant detail for individual models and aspects of governance, it lacks complete information on processes, responsibilities, and systems needed for a fully integrated and holistic AI system inventory as described in the governance requirement.\n"
     ]
    }
   ],
   "source": [
    "requirement_text = ai_rmf[ai_rmf[\"section_id\"]=='GOVERN 1.6']['section_about'].values[0]\n",
    "print(requirement_text)\n",
    "evidence__incomplete_df = pd.read_csv(\"Simulated_AI_System_Inventory_incomplete.csv\")\n",
    "evidence_text = evidence__incomplete_df.to_string(index=False)\n",
    "print(evidence_text)\n",
    "\n",
    "result = graph.invoke({\n",
    "    \"requirement\": requirement_text_withdoc,\n",
    "    \"evidence\": evidence_text\n",
    "})\n",
    "\n",
    "print(\"Judgment:\\n\", result[\"judgment\"])"
   ]
  }
 ],
 "metadata": {
  "kernelspec": {
   "display_name": ".venv",
   "language": "python",
   "name": "python3"
  },
  "language_info": {
   "codemirror_mode": {
    "name": "ipython",
    "version": 3
   },
   "file_extension": ".py",
   "mimetype": "text/x-python",
   "name": "python",
   "nbconvert_exporter": "python",
   "pygments_lexer": "ipython3",
   "version": "3.11.8"
  }
 },
 "nbformat": 4,
 "nbformat_minor": 2
}
